{
 "cells": [
  {
   "cell_type": "code",
   "execution_count": 1,
   "metadata": {},
   "outputs": [],
   "source": [
    "import h5py\n",
    "import matplotlib.pyplot as plt\n",
    "import numpy as np\n",
    "import cv2\n",
    "from scipy.spatial.transform import Rotation as Rot\n",
    "import json\n",
    "from simarUtils import *\n",
    "import torchvision\n",
    "from robomimic.utils.dataset import interpolate_arr\n"
   ]
  },
  {
   "cell_type": "code",
   "execution_count": 2,
   "metadata": {},
   "outputs": [],
   "source": [
    "data = h5py.File('/coc/flash7/datasets/egoplay/_DEBUG/hand_data_robo_cam_jun3/hand_data_robo_cam_jun3_ACTGMMCompat.hdf5', 'r+')"
   ]
  },
  {
   "cell_type": "code",
   "execution_count": 3,
   "metadata": {},
   "outputs": [
    {
     "name": "stdout",
     "output_type": "stream",
     "text": [
      "dict with keys:  <KeysViewHDF5 ['data', 'mask']>\n",
      "data: dict with keys:  <KeysViewHDF5 ['demo_0', 'demo_1', 'demo_2']>\n",
      "\tdemo_0: dict with keys:  <KeysViewHDF5 ['actions_xyz', 'actions_xyz_act', 'label', 'obs']>\n",
      "\t\tactions_xyz: (1330, 10, 3)\n",
      "\t\tactions_xyz_act: (1330, 100, 3)\n",
      "\t\tlabel: (1,)\n",
      "\t\tobs: dict with keys:  <KeysViewHDF5 ['Gripper_position', 'ee_pose', 'ee_pose_full_unnorm', 'front_img_1', 'front_img_2', 'wrist_cam_1']>\n",
      "\t\t\tGripper_position: ()\n",
      "\t\t\tee_pose: (1330, 3)\n",
      "\t\t\tee_pose_full_unnorm: (1330, 7)\n",
      "\t\t\tfront_img_1: (1330, 480, 640, 3)\n",
      "\t\t\tfront_img_2: (1, 1920, 1080, 3)\n",
      "\t\t\twrist_cam_1: (1, 640, 480, 3)\n",
      "\tdemo_1: dict with keys:  <KeysViewHDF5 ['actions_xyz', 'actions_xyz_act', 'label', 'obs']>\n",
      "\t\tactions_xyz: (1360, 10, 3)\n",
      "\t\tactions_xyz_act: (1360, 100, 3)\n",
      "\t\tlabel: (1,)\n",
      "\t\tobs: dict with keys:  <KeysViewHDF5 ['Gripper_position', 'ee_pose', 'ee_pose_full_unnorm', 'front_img_1', 'front_img_2', 'wrist_cam_1']>\n",
      "\t\t\tGripper_position: ()\n",
      "\t\t\tee_pose: (1360, 3)\n",
      "\t\t\tee_pose_full_unnorm: (1360, 7)\n",
      "\t\t\tfront_img_1: (1360, 480, 640, 3)\n",
      "\t\t\tfront_img_2: (1, 1920, 1080, 3)\n",
      "\t\t\twrist_cam_1: (1, 640, 480, 3)\n",
      "\tdemo_2: dict with keys:  <KeysViewHDF5 ['actions_xyz', 'actions_xyz_act', 'label', 'obs']>\n",
      "\t\tactions_xyz: (1269, 10, 3)\n",
      "\t\tactions_xyz_act: (1269, 100, 3)\n",
      "\t\tlabel: (1,)\n",
      "\t\tobs: dict with keys:  <KeysViewHDF5 ['Gripper_position', 'ee_pose', 'ee_pose_full_unnorm', 'front_img_1', 'front_img_2', 'wrist_cam_1']>\n",
      "\t\t\tGripper_position: ()\n",
      "\t\t\tee_pose: (1269, 3)\n",
      "\t\t\tee_pose_full_unnorm: (1269, 7)\n",
      "\t\t\tfront_img_1: (1269, 480, 640, 3)\n",
      "\t\t\tfront_img_2: (1, 1920, 1080, 3)\n",
      "\t\t\twrist_cam_1: (1, 640, 480, 3)\n",
      "mask: dict with keys:  <KeysViewHDF5 ['train', 'valid']>\n",
      "\ttrain: (0,)\n",
      "\tvalid: (3,)\n"
     ]
    }
   ],
   "source": [
    "# for i in range(3):\n",
    "#     actions = data[f\"data/demo_{i}/actions\"]\n",
    "#     actions_interp = interpolate_arr(actions, 100)\n",
    "#     data[f\"data/demo_{i}/actions_xyz\"] = actions_interp\n",
    "\n",
    "for i in range(3):\n",
    "    data[f\"data/demo_{i}/actions_xyz_act\"] = data[f\"data/demo_{i}/actions_xyz\"]\n",
    "    del data[f\"data/demo_{i}/actions_xyz\"]\n",
    "    data[f\"data/demo_{i}/actions_xyz\"] = data[f\"data/demo_{i}/actions\"]\n",
    "    del data[f\"data/demo_{i}/actions\"]\n",
    "nds(data)"
   ]
  },
  {
   "cell_type": "code",
   "execution_count": 4,
   "metadata": {},
   "outputs": [],
   "source": [
    "data.close()"
   ]
  },
  {
   "cell_type": "code",
   "execution_count": 7,
   "metadata": {},
   "outputs": [],
   "source": [
    "for i in range(3):\n",
    "    old_key = f\"data/demo_{i}/actions\"\n",
    "    new_key = f\"data/demo_{i}/actions_new\"\n",
    "    data[new_key] = data[old_key][:].reshape(-1, 10, 3)\n",
    "    del data[old_key]\n",
    "    data[old_key] = data[new_key][:]\n",
    "    del data[new_key]"
   ]
  },
  {
   "cell_type": "code",
   "execution_count": 8,
   "metadata": {},
   "outputs": [
    {
     "name": "stdout",
     "output_type": "stream",
     "text": [
      "dict with keys:  <KeysViewHDF5 ['data', 'mask']>\n",
      "data: dict with keys:  <KeysViewHDF5 ['demo_0', 'demo_1', 'demo_2']>\n",
      "\tdemo_0: dict with keys:  <KeysViewHDF5 ['actions', 'label', 'obs']>\n",
      "\t\tactions: (1330, 10, 3)\n",
      "\t\tlabel: (1,)\n",
      "\t\tobs: dict with keys:  <KeysViewHDF5 ['Gripper_position', 'ee_pose', 'ee_pose_full_unnorm', 'front_img_1', 'front_img_2', 'wrist_cam_1']>\n",
      "\t\t\tGripper_position: ()\n",
      "\t\t\tee_pose: (1330, 3)\n",
      "\t\t\tee_pose_full_unnorm: (1330, 7)\n",
      "\t\t\tfront_img_1: (1330, 480, 640, 3)\n",
      "\t\t\tfront_img_2: (1, 1920, 1080, 3)\n",
      "\t\t\twrist_cam_1: (1, 640, 480, 3)\n",
      "\tdemo_1: dict with keys:  <KeysViewHDF5 ['actions', 'label', 'obs']>\n",
      "\t\tactions: (1360, 10, 3)\n",
      "\t\tlabel: (1,)\n",
      "\t\tobs: dict with keys:  <KeysViewHDF5 ['Gripper_position', 'ee_pose', 'ee_pose_full_unnorm', 'front_img_1', 'front_img_2', 'wrist_cam_1']>\n",
      "\t\t\tGripper_position: ()\n",
      "\t\t\tee_pose: (1360, 3)\n",
      "\t\t\tee_pose_full_unnorm: (1360, 7)\n",
      "\t\t\tfront_img_1: (1360, 480, 640, 3)\n",
      "\t\t\tfront_img_2: (1, 1920, 1080, 3)\n",
      "\t\t\twrist_cam_1: (1, 640, 480, 3)\n",
      "\tdemo_2: dict with keys:  <KeysViewHDF5 ['actions', 'label', 'obs']>\n",
      "\t\tactions: (1269, 10, 3)\n",
      "\t\tlabel: (1,)\n",
      "\t\tobs: dict with keys:  <KeysViewHDF5 ['Gripper_position', 'ee_pose', 'ee_pose_full_unnorm', 'front_img_1', 'front_img_2', 'wrist_cam_1']>\n",
      "\t\t\tGripper_position: ()\n",
      "\t\t\tee_pose: (1269, 3)\n",
      "\t\t\tee_pose_full_unnorm: (1269, 7)\n",
      "\t\t\tfront_img_1: (1269, 480, 640, 3)\n",
      "\t\t\tfront_img_2: (1, 1920, 1080, 3)\n",
      "\t\t\twrist_cam_1: (1, 640, 480, 3)\n",
      "mask: dict with keys:  <KeysViewHDF5 ['train', 'valid']>\n",
      "\ttrain: (0,)\n",
      "\tvalid: (3,)\n"
     ]
    }
   ],
   "source": [
    "nds(data)"
   ]
  },
  {
   "cell_type": "code",
   "execution_count": 10,
   "metadata": {},
   "outputs": [],
   "source": [
    "data.close()"
   ]
  },
  {
   "cell_type": "code",
   "execution_count": 2,
   "metadata": {},
   "outputs": [],
   "source": [
    "ds1 = \"/coc/flash7/datasets/egoplay/_DEBUG/hand_data_robo_cam_jun3/hand_data_robo_cam_jun3Mimicplay_3dim.hdf5\"\n",
    "ds2 = \"/coc/flash7/datasets/egoplay/_DEBUG/hand_data_robo_cam_jun3/hand_data_robo_cam_jun3Mimicplay.hdf5\"\n",
    "\n",
    "ds3 = '/coc/flash7/datasets/egoplay/_OBOO_ARIA/oboo_aria_apr11/rawAria/oboo_aria_apr11/converted/oboo_aria_apr11_Mimicplay_LH3_prestacked.hdf5'\n",
    "ds4 = '/coc/flash7/datasets/egoplay/_OBOO_ARIA/oboo_aria_apr11/rawAria/oboo_aria_apr11/converted/oboo_aria_apr11_Mimicplay_LH3.hdf5'\n",
    "\n",
    "hdf5 = h5py.File(ds3, 'r+')\n",
    "hdf52 = h5py.File(ds4, 'r')"
   ]
  },
  {
   "cell_type": "code",
   "execution_count": 4,
   "metadata": {},
   "outputs": [
    {
     "data": {
      "text/plain": [
       "(array([b'demo_15', b'demo_42', b'demo_67', b'demo_76', b'demo_41',\n",
       "        b'demo_29', b'demo_21', b'demo_64', b'demo_48', b'demo_56',\n",
       "        b'demo_24', b'demo_40', b'demo_51', b'demo_95', b'demo_100',\n",
       "        b'demo_75', b'demo_9', b'demo_59', b'demo_69', b'demo_14',\n",
       "        b'demo_49', b'demo_37', b'demo_43', b'demo_65', b'demo_28',\n",
       "        b'demo_10', b'demo_63', b'demo_79', b'demo_91', b'demo_3',\n",
       "        b'demo_58', b'demo_68', b'demo_88', b'demo_52', b'demo_73',\n",
       "        b'demo_26', b'demo_80', b'demo_94', b'demo_57', b'demo_11',\n",
       "        b'demo_96', b'demo_13', b'demo_6', b'demo_60', b'demo_25',\n",
       "        b'demo_32', b'demo_90', b'demo_83', b'demo_61', b'demo_87',\n",
       "        b'demo_62', b'demo_2', b'demo_93', b'demo_92', b'demo_33',\n",
       "        b'demo_84', b'demo_22', b'demo_45', b'demo_30', b'demo_82',\n",
       "        b'demo_23', b'demo_70', b'demo_81', b'demo_7', b'demo_99',\n",
       "        b'demo_5', b'demo_89', b'demo_17', b'demo_1', b'demo_0',\n",
       "        b'demo_27', b'demo_101', b'demo_18', b'demo_85', b'demo_34',\n",
       "        b'demo_98', b'demo_46', b'demo_50', b'demo_47', b'demo_86',\n",
       "        b'demo_12'], dtype='|S8'),\n",
       " array([b'demo_39', b'demo_55', b'demo_78', b'demo_53', b'demo_44',\n",
       "        b'demo_36', b'demo_8', b'demo_31', b'demo_77', b'demo_20',\n",
       "        b'demo_35', b'demo_66', b'demo_97', b'demo_71', b'demo_54',\n",
       "        b'demo_74', b'demo_72', b'demo_19', b'demo_38', b'demo_4',\n",
       "        b'demo_16'], dtype='|S7'))"
      ]
     },
     "execution_count": 4,
     "metadata": {},
     "output_type": "execute_result"
    }
   ],
   "source": [
    "hdf5[\"mask/train\"][:], hdf5[\"mask/valid\"][:]"
   ]
  },
  {
   "cell_type": "code",
   "execution_count": 5,
   "metadata": {},
   "outputs": [
    {
     "data": {
      "text/plain": [
       "(array([b'demo_15', b'demo_42', b'demo_67', b'demo_76', b'demo_41',\n",
       "        b'demo_29', b'demo_21', b'demo_64', b'demo_48', b'demo_56',\n",
       "        b'demo_24', b'demo_40', b'demo_51', b'demo_95', b'demo_100',\n",
       "        b'demo_75', b'demo_9', b'demo_59', b'demo_69', b'demo_14',\n",
       "        b'demo_49', b'demo_37', b'demo_43', b'demo_65', b'demo_28',\n",
       "        b'demo_10', b'demo_63', b'demo_79', b'demo_91', b'demo_3',\n",
       "        b'demo_58', b'demo_68', b'demo_88', b'demo_52', b'demo_73',\n",
       "        b'demo_26', b'demo_80', b'demo_94', b'demo_57', b'demo_11',\n",
       "        b'demo_96', b'demo_13', b'demo_6', b'demo_60', b'demo_25',\n",
       "        b'demo_32', b'demo_90', b'demo_83', b'demo_61', b'demo_87',\n",
       "        b'demo_62', b'demo_2', b'demo_93', b'demo_92', b'demo_33',\n",
       "        b'demo_84', b'demo_22', b'demo_45', b'demo_30', b'demo_82',\n",
       "        b'demo_23', b'demo_70', b'demo_81', b'demo_7', b'demo_99',\n",
       "        b'demo_5', b'demo_89', b'demo_17', b'demo_1', b'demo_0',\n",
       "        b'demo_27', b'demo_101', b'demo_18', b'demo_85', b'demo_34',\n",
       "        b'demo_98', b'demo_46', b'demo_50', b'demo_47', b'demo_86',\n",
       "        b'demo_12'], dtype='|S8'),\n",
       " array([b'demo_39', b'demo_55', b'demo_78', b'demo_53', b'demo_44',\n",
       "        b'demo_36', b'demo_8', b'demo_31', b'demo_77', b'demo_20',\n",
       "        b'demo_35', b'demo_66', b'demo_97', b'demo_71', b'demo_54',\n",
       "        b'demo_74', b'demo_72', b'demo_19', b'demo_38', b'demo_4',\n",
       "        b'demo_16'], dtype='|S7'))"
      ]
     },
     "execution_count": 5,
     "metadata": {},
     "output_type": "execute_result"
    }
   ],
   "source": [
    "hdf52[\"mask/train\"][:], hdf52[\"mask/valid\"][:]"
   ]
  },
  {
   "cell_type": "code",
   "execution_count": 5,
   "metadata": {},
   "outputs": [],
   "source": [
    "# hdf5.create_dataset(\"mask/train_old\", data=hdf5[\"mask/train\"][:])\n",
    "# hdf5.create_dataset(\"mask/valid_old\", data=hdf5[\"mask/valid\"][:])\n",
    "# del hdf5[\"mask/train\"]\n",
    "# del hdf5[\"mask/valid\"]\n",
    "# hdf5.create_dataset(\"mask/train\", data=hdf5[\"mask/train_aligned\"][:])\n",
    "# hdf5.create_dataset(\"mask/valid\", data=hdf5[\"mask/valid_aligned\"][:])\n",
    "# del hdf5[\"mask/train_aligned\"]\n",
    "# del hdf5[\"mask/valid_aligned\"]"
   ]
  },
  {
   "cell_type": "code",
   "execution_count": 3,
   "metadata": {},
   "outputs": [
    {
     "data": {
      "text/plain": [
       "<HDF5 dataset \"valid_aligned\": shape (21,), type \"|S7\">"
      ]
     },
     "execution_count": 3,
     "metadata": {},
     "output_type": "execute_result"
    }
   ],
   "source": [
    "# del data[\"mask\"]\n",
    "# data.create_group(\"mask\")\n",
    "# hdf5.create_dataset(\"mask/train_aligned\", data=hdf52[\"mask/train\"][:])\n",
    "# hdf5.create_dataset(\"mask/valid_aligned\", data=hdf52[\"mask/valid\"][:])"
   ]
  },
  {
   "cell_type": "code",
   "execution_count": 5,
   "metadata": {},
   "outputs": [
    {
     "data": {
      "text/plain": [
       "array([[0.20755489, 0.132333  , 0.57907362],\n",
       "       [0.20745784, 0.13547598, 0.58250806],\n",
       "       [0.20549802, 0.13242403, 0.58039723],\n",
       "       [0.20574437, 0.13521836, 0.58130304],\n",
       "       [0.20641422, 0.14365531, 0.58403272],\n",
       "       [0.21080427, 0.15202508, 0.58890299],\n",
       "       [0.20680753, 0.16184896, 0.58573989],\n",
       "       [0.194573  , 0.16464086, 0.57624596],\n",
       "       [0.19063408, 0.16674707, 0.57014377],\n",
       "       [0.18834604, 0.17503529, 0.55837708]])"
      ]
     },
     "execution_count": 5,
     "metadata": {},
     "output_type": "execute_result"
    }
   ],
   "source": [
    "hdf5[\"data/demo_2/actions\"][200]"
   ]
  },
  {
   "cell_type": "code",
   "execution_count": 6,
   "metadata": {},
   "outputs": [
    {
     "data": {
      "text/plain": [
       "array([0.20755489, 0.132333  , 0.57907362, 0.20745784, 0.13547598,\n",
       "       0.58250806, 0.20549802, 0.13242403, 0.58039723, 0.20574437,\n",
       "       0.13521836, 0.58130304, 0.20641422, 0.14365531, 0.58403272,\n",
       "       0.21080427, 0.15202508, 0.58890299, 0.20680753, 0.16184896,\n",
       "       0.58573989, 0.194573  , 0.16464086, 0.57624596, 0.19063408,\n",
       "       0.16674707, 0.57014377, 0.18834604, 0.17503529, 0.55837708])"
      ]
     },
     "execution_count": 6,
     "metadata": {},
     "output_type": "execute_result"
    }
   ],
   "source": [
    "hdf52[\"data/demo_2/actions\"][200]"
   ]
  },
  {
   "cell_type": "code",
   "execution_count": 10,
   "metadata": {},
   "outputs": [
    {
     "data": {
      "text/plain": [
       "[b'demo_16',\n",
       " b'demo_19',\n",
       " b'demo_20',\n",
       " b'demo_31',\n",
       " b'demo_35',\n",
       " b'demo_36',\n",
       " b'demo_38',\n",
       " b'demo_39',\n",
       " b'demo_4',\n",
       " b'demo_44',\n",
       " b'demo_53',\n",
       " b'demo_54',\n",
       " b'demo_55',\n",
       " b'demo_66',\n",
       " b'demo_71',\n",
       " b'demo_72',\n",
       " b'demo_74',\n",
       " b'demo_77',\n",
       " b'demo_78',\n",
       " b'demo_8',\n",
       " b'demo_97']"
      ]
     },
     "execution_count": 10,
     "metadata": {},
     "output_type": "execute_result"
    }
   ],
   "source": [
    "sorted(list(hdf5[\"mask/valid_aligned\"][:]))"
   ]
  },
  {
   "cell_type": "code",
   "execution_count": 11,
   "metadata": {},
   "outputs": [
    {
     "data": {
      "text/plain": [
       "[b'demo_16',\n",
       " b'demo_19',\n",
       " b'demo_20',\n",
       " b'demo_31',\n",
       " b'demo_35',\n",
       " b'demo_36',\n",
       " b'demo_38',\n",
       " b'demo_39',\n",
       " b'demo_4',\n",
       " b'demo_44',\n",
       " b'demo_53',\n",
       " b'demo_54',\n",
       " b'demo_55',\n",
       " b'demo_66',\n",
       " b'demo_71',\n",
       " b'demo_72',\n",
       " b'demo_74',\n",
       " b'demo_77',\n",
       " b'demo_78',\n",
       " b'demo_8',\n",
       " b'demo_97']"
      ]
     },
     "execution_count": 11,
     "metadata": {},
     "output_type": "execute_result"
    }
   ],
   "source": [
    "sorted(list(hdf52[\"mask/valid\"][:]))"
   ]
  }
 ],
 "metadata": {
  "kernelspec": {
   "display_name": "eplay2",
   "language": "python",
   "name": "python3"
  },
  "language_info": {
   "codemirror_mode": {
    "name": "ipython",
    "version": 3
   },
   "file_extension": ".py",
   "mimetype": "text/x-python",
   "name": "python",
   "nbconvert_exporter": "python",
   "pygments_lexer": "ipython3",
   "version": "3.10.14"
  }
 },
 "nbformat": 4,
 "nbformat_minor": 2
}
