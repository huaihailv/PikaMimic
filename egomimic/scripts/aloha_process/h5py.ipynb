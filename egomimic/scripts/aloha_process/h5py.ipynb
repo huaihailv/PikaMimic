{
 "cells": [
  {
   "cell_type": "code",
   "execution_count": 1,
   "metadata": {},
   "outputs": [],
   "source": [
    "import h5py\n",
    "import matplotlib.pyplot as plt\n",
    "import numpy as np\n",
    "# import cv2\n",
    "from scipy.spatial.transform import Rotation as Rot\n",
    "import json\n",
    "# from simarUtils import *\n",
    "import torchvision"
   ]
  },
  {
   "cell_type": "code",
   "execution_count": 11,
   "metadata": {},
   "outputs": [
    {
     "name": "stdout",
     "output_type": "stream",
     "text": [
      "100\n",
      "b'demo_44'\n",
      "<KeysViewHDF5 ['demo_0', 'demo_1', 'demo_10', 'demo_11', 'demo_12', 'demo_13', 'demo_14', 'demo_15', 'demo_16', 'demo_17', 'demo_18', 'demo_19', 'demo_2', 'demo_20', 'demo_21', 'demo_22', 'demo_23', 'demo_24', 'demo_25', 'demo_26', 'demo_27', 'demo_28', 'demo_29', 'demo_3', 'demo_30', 'demo_31', 'demo_32', 'demo_33', 'demo_34', 'demo_35', 'demo_36', 'demo_37', 'demo_38', 'demo_39', 'demo_4', 'demo_40', 'demo_41', 'demo_42', 'demo_43', 'demo_44', 'demo_45', 'demo_46', 'demo_47', 'demo_48', 'demo_49', 'demo_5', 'demo_50', 'demo_51', 'demo_52', 'demo_53', 'demo_54', 'demo_55', 'demo_56', 'demo_57', 'demo_58', 'demo_59', 'demo_6', 'demo_60', 'demo_61', 'demo_62', 'demo_63', 'demo_64', 'demo_65', 'demo_66', 'demo_67', 'demo_68', 'demo_69', 'demo_7', 'demo_70', 'demo_71', 'demo_72', 'demo_73', 'demo_74', 'demo_75', 'demo_76', 'demo_77', 'demo_78', 'demo_79', 'demo_8', 'demo_80', 'demo_81', 'demo_82', 'demo_83', 'demo_84', 'demo_85', 'demo_86', 'demo_87', 'demo_88', 'demo_89', 'demo_9', 'demo_90', 'demo_91', 'demo_92', 'demo_93', 'demo_94', 'demo_95', 'demo_96', 'demo_97', 'demo_98', 'demo_99']>\n",
      "<KeysViewHDF5 ['actions_joints_act', 'actions_xyz_act', 'obs']>\n",
      "837\n",
      "[[ 0.074662   -0.058807    0.31505701  0.007432    0.013185    0.27511001]\n",
      " [ 0.08523    -0.061826    0.318506    0.007432    0.013185    0.27511001]\n",
      " [ 0.099097   -0.066023    0.320099    0.007432    0.013185    0.27511001]\n",
      " [ 0.111498   -0.06996     0.32078201  0.007432    0.013185    0.27511001]\n",
      " [ 0.12697101 -0.075347    0.32102901  0.007432    0.013185    0.27511001]\n",
      " [ 0.14334799 -0.080971    0.318194    0.007575    0.013258    0.27548   ]\n",
      " [ 0.157958   -0.08615     0.31905499  0.007876    0.013411    0.27627099]\n",
      " [ 0.17597499 -0.093159    0.31596899  0.008338    0.013643    0.27752301]\n",
      " [ 0.19297899 -0.100293    0.30915999  0.008851    0.013894    0.27896801]\n",
      " [ 0.20822699 -0.10666     0.30796799  0.00942     0.014164    0.280653  ]\n",
      " [ 0.22861899 -0.115772    0.30305001  0.010221    0.014604    0.28221801]\n",
      " [ 0.244956   -0.123121    0.29373699  0.012077    0.01565     0.28327501]\n",
      " [ 0.26005101 -0.129995    0.291419    0.014728    0.016798    0.284199  ]\n",
      " [ 0.27389801 -0.13624801  0.28532901  0.01859     0.018935    0.28450301]\n",
      " [ 0.28990901 -0.143334    0.27722499  0.023102    0.021871    0.28452799]\n",
      " [ 0.303709   -0.149321    0.26578701  0.027565    0.024566    0.284201  ]\n",
      " [ 0.31761399 -0.15502501  0.25635499  0.033004    0.028113    0.28480899]\n",
      " [ 0.330928   -0.16045     0.248519    0.038633    0.031792    0.285862  ]\n",
      " [ 0.340056   -0.163996    0.240344    0.044039    0.035348    0.28672999]\n",
      " [ 0.34884    -0.167206    0.22948299  0.048702    0.038413    0.28839901]\n",
      " [ 0.35747901 -0.170232    0.222196    0.05379     0.041732    0.28935999]\n",
      " [ 0.36326599 -0.172396    0.21381     0.05822     0.044727    0.28983101]\n",
      " [ 0.36848101 -0.173904    0.207922    0.061425    0.04691     0.28973499]\n",
      " [ 0.37186801 -0.174546    0.203804    0.064597    0.049209    0.28905901]\n",
      " [ 0.37599501 -0.17467     0.20134699  0.067136    0.051081    0.28803101]\n",
      " [ 0.378456   -0.174445    0.20091     0.068954    0.052361    0.287074  ]\n",
      " [ 0.38126099 -0.173859    0.20151301  0.070667    0.053667    0.286412  ]\n",
      " [ 0.383726   -0.173871    0.20322999  0.072073    0.05464     0.2859    ]\n",
      " [ 0.38665101 -0.173517    0.204412    0.073116    0.055343    0.28580999]\n",
      " [ 0.38915101 -0.172334    0.20510601  0.073424    0.055546    0.28586599]\n",
      " [ 0.39105701 -0.170781    0.20577     0.073903    0.055835    0.28640899]\n",
      " [ 0.392432   -0.16905899  0.206119    0.074246    0.05603     0.28700399]\n",
      " [ 0.39409599 -0.166416    0.206213    0.074632    0.05627     0.287305  ]\n",
      " [ 0.395863   -0.163848    0.20460901  0.074841    0.056447    0.28795701]\n",
      " [ 0.397266   -0.161937    0.202668    0.075129    0.056702    0.28890201]\n",
      " [ 0.398462   -0.16025101  0.20078     0.075354    0.056808    0.28951401]\n",
      " [ 0.40027499 -0.157884    0.19617601  0.075529    0.056894    0.29000601]\n",
      " [ 0.40175101 -0.15596899  0.192385    0.075606    0.05703     0.290382  ]\n",
      " [ 0.40265    -0.155242    0.188704    0.075637    0.057131    0.29060599]\n",
      " [ 0.403191   -0.155643    0.18536     0.075568    0.057289    0.29071701]\n",
      " [ 0.40394899 -0.155642    0.181592    0.075625    0.057496    0.29117599]\n",
      " [ 0.40421399 -0.15595999  0.177177    0.075697    0.057665    0.291612  ]\n",
      " [ 0.40469599 -0.15632901  0.174187    0.075749    0.057858    0.29204899]\n",
      " [ 0.40494099 -0.156526    0.171938    0.075825    0.057983    0.29243299]\n",
      " [ 0.40520999 -0.15673301  0.16903199  0.075964    0.058137    0.29301801]\n",
      " [ 0.405375   -0.15689699  0.167054    0.076096    0.058181    0.29340199]\n",
      " [ 0.405595   -0.15738399  0.16516     0.076156    0.058204    0.29358199]\n",
      " [ 0.40554801 -0.15787099  0.16421799  0.076204    0.058222    0.29372901]\n",
      " [ 0.40556699 -0.15843301  0.16237301  0.076204    0.058222    0.29372901]\n",
      " [ 0.40549999 -0.158905    0.161697    0.076204    0.058222    0.29372901]\n",
      " [ 0.405375   -0.159417    0.16155601  0.076222    0.058229    0.29378399]\n",
      " [ 0.40536499 -0.16009399  0.15968101  0.076208    0.058248    0.29378599]\n",
      " [ 0.40551999 -0.16071799  0.158014    0.076208    0.058248    0.29378599]\n",
      " [ 0.40551099 -0.16109     0.156994    0.076208    0.058248    0.29378599]\n",
      " [ 0.405644   -0.16144601  0.15416799  0.076208    0.058248    0.29378599]\n",
      " [ 0.40593499 -0.16179299  0.152045    0.076255    0.058266    0.293928  ]\n",
      " [ 0.406322   -0.16202299  0.148561    0.076255    0.058266    0.293928  ]\n",
      " [ 0.40733501 -0.162278    0.14808799  0.076255    0.058266    0.293928  ]\n",
      " [ 0.408775   -0.16276599  0.14775001  0.076255    0.058266    0.293928  ]\n",
      " [ 0.409749   -0.16303401  0.14749201  0.076255    0.058266    0.293928  ]\n",
      " [ 0.41017401 -0.163109    0.14687601  0.076309    0.058286    0.294094  ]\n",
      " [ 0.410514   -0.16322701  0.14732     0.07631     0.058286    0.29409799]\n",
      " [ 0.41062099 -0.163348    0.14751101  0.07631     0.058286    0.29409799]\n",
      " [ 0.41089699 -0.16355599  0.147955    0.07631     0.058286    0.29409799]\n",
      " [ 0.41106501 -0.163948    0.14848199  0.076276    0.058333    0.29410401]\n",
      " [ 0.410411   -0.164112    0.15058701  0.076239    0.058385    0.29411   ]\n",
      " [ 0.409569   -0.164223    0.156207    0.076262    0.058353    0.29410601]\n",
      " [ 0.409284   -0.16445801  0.165673    0.07623     0.058398    0.294112  ]\n",
      " [ 0.409641   -0.164848    0.177513    0.07623     0.058398    0.294112  ]\n",
      " [ 0.40912899 -0.164874    0.193886    0.07623     0.058398    0.294112  ]\n",
      " [ 0.40772501 -0.164617    0.212235    0.07623     0.058398    0.294112  ]\n",
      " [ 0.40525001 -0.163986    0.230041    0.07623     0.058398    0.294112  ]\n",
      " [ 0.40233099 -0.16346499  0.24546599  0.076265    0.058411    0.29422101]\n",
      " [ 0.39794099 -0.162365    0.26208901  0.076265    0.058411    0.29422101]\n",
      " [ 0.392822   -0.16102301  0.27723199  0.076265    0.058411    0.29422101]\n",
      " [ 0.38758799 -0.15975501  0.29055801  0.076265    0.058411    0.29422101]\n",
      " [ 0.381033   -0.15795501  0.305511    0.076145    0.058368    0.29385599]\n",
      " [ 0.37307301 -0.155508    0.322559    0.075944    0.058248    0.29277101]\n",
      " [ 0.366671   -0.15346099  0.335226    0.076354    0.058313    0.29129601]\n",
      " [ 0.360035   -0.151235    0.34932801  0.076938    0.058385    0.288863  ]\n",
      " [ 0.35039601 -0.147808    0.36845601  0.078349    0.059161    0.28580999]\n",
      " [ 0.34304199 -0.145171    0.38259301  0.079768    0.059772    0.282895  ]\n",
      " [ 0.334149   -0.141918    0.39939499  0.081699    0.060888    0.27909699]\n",
      " [ 0.32614699 -0.13884901  0.41408101  0.084048    0.062475    0.275141  ]\n",
      " [ 0.316214   -0.135177    0.429975    0.08614     0.06394     0.27140099]\n",
      " [ 0.30632299 -0.13149101  0.443914    0.089482    0.066216    0.26835901]\n",
      " [ 0.296583   -0.12786201  0.45673001  0.093625    0.069146    0.26636401]\n",
      " [ 0.28907201 -0.125063    0.46526501  0.09877     0.072532    0.26438001]\n",
      " [ 0.28002101 -0.121719    0.47404501  0.103559    0.075445    0.26236701]\n",
      " [ 0.274176   -0.119627    0.47911701  0.109884    0.079348    0.259873  ]\n",
      " [ 0.269618   -0.117984    0.48315501  0.1163      0.083645    0.256708  ]\n",
      " [ 0.26513901 -0.11644     0.48600501  0.122015    0.08751     0.254058  ]\n",
      " [ 0.26197299 -0.115351    0.48794499  0.1286      0.092038    0.249201  ]\n",
      " [ 0.25968799 -0.114691    0.489254    0.13576099  0.097021    0.24408799]\n",
      " [ 0.257763   -0.11414     0.48949301  0.14182299  0.101322    0.240807  ]\n",
      " [ 0.25629401 -0.113727    0.48960099  0.14821     0.105855    0.235514  ]\n",
      " [ 0.25518101 -0.11341     0.48970601  0.15470199  0.110351    0.23111799]\n",
      " [ 0.253885   -0.11305     0.48973501  0.160978    0.114648    0.22708499]\n",
      " [ 0.25206    -0.112467    0.49038601  0.166602    0.118231    0.224508  ]\n",
      " [ 0.25084701 -0.112123    0.49044201  0.171763    0.121481    0.22002199]]\n",
      "<KeysViewHDF5 ['ee_pose', 'front_img_1', 'joint_positions', 'left_wrist_img', 'right_wrist_img']>\n",
      "<HDF5 dataset \"ee_pose\": shape (837, 6), type \"<f8\">\n",
      "<HDF5 dataset \"joint_positions\": shape (837, 14), type \"<f8\">\n",
      "<HDF5 dataset \"front_img_1\": shape (837, 480, 640, 3), type \"<f8\">\n"
     ]
    }
   ],
   "source": [
    "data = h5py.File(\"/home/lvhuaihai/EgoMimic/datasets/ego.hdf5\", \"r\")\n",
    "print(len(data['data'].keys()))\n",
    "print(data['mask']['train'][0])\n",
    "print(data['data'].keys())\n",
    "print(data['data']['demo_0'].keys())\n",
    "print(data['data']['demo_0'].attrs[\"num_samples\"])\n",
    "print(data['data']['demo_0']['actions_xyz_act'][50])\n",
    "# print(data['data']['demo_0']['actions_xyz_act'][100])\n",
    "print(data['data']['demo_0']['obs'].keys())\n",
    "print(data['data']['demo_0']['obs']['ee_pose'])\n",
    "print(data['data']['demo_0']['obs']['joint_positions'])\n",
    "print(data['data']['demo_0']['obs']['front_img_1'])\n",
    "# print(data['data']['demo_0']['obs']['ee_pose'][100])\n",
    "# print(data['data']['demo_0']['obs']['joint_positions'][100])\n",
    "# print(data['data']['demo_0']['obs']['front_img_1'][100])\n",
    "# print(data['data']['demo_0']['obs']['front_img_1_line'])\n",
    "# print(data['data']['demo_0']['obs']['front_img_1_mask'])"
   ]
  },
  {
   "cell_type": "code",
   "execution_count": 9,
   "metadata": {},
   "outputs": [
    {
     "name": "stdout",
     "output_type": "stream",
     "text": [
      "<KeysViewHDF5 ['action', 'observations']>\n",
      "<HDF5 dataset \"action\": shape (662, 128), type \"<f4\">\n",
      "<KeysViewHDF5 ['images', 'qpos']>\n",
      "<KeysViewHDF5 ['cam_high', 'cam_left_wrist', 'cam_right_wrist']>\n",
      "(662,)\n",
      "(662,)\n",
      "(662,)\n",
      "(64098,)\n",
      "(57845,)\n",
      "(56256,)\n",
      "<HDF5 dataset \"qpos\": shape (662, 128), type \"<f4\">\n",
      "[ 0.5297529   2.08107    -1.6171174   1.0430207   0.7251307  -1.2665539\n",
      "  0.          0.          0.          0.          0.2842      0.\n",
      "  0.          0.          0.          0.          0.          0.\n",
      "  0.          0.          0.          0.          0.          0.\n",
      "  0.          0.          0.          0.          0.          0.\n",
      "  0.368055    0.276146    0.2311     -0.3117193  -0.51513565 -0.7984149\n",
      " -0.9279557   0.3456985   0.13925096  0.          0.          0.\n",
      "  0.          0.          0.          0.          0.          0.\n",
      "  0.          0.         -0.52211225  1.6525645  -2.0369878   0.00437856\n",
      "  1.1956248   0.17353733  0.          0.          0.          0.\n",
      "  0.          0.          0.          0.          0.          0.\n",
      "  0.          0.          0.          0.          0.          0.\n",
      "  0.          0.          0.          0.          0.          0.\n",
      "  0.          0.          0.289218   -0.166087    0.476506   -0.47895017\n",
      "  0.47693142 -0.73698246  0.5888218   0.79720503  0.13324037  0.\n",
      "  0.          0.          0.          0.          0.          0.\n",
      "  0.          0.          0.          0.          0.          0.\n",
      "  0.          0.          0.          0.          0.          0.\n",
      "  0.          0.          0.          0.          0.          0.\n",
      "  0.          0.          0.          0.          0.          0.\n",
      "  0.          0.          0.          0.          0.          0.\n",
      "  0.          0.        ]\n"
     ]
    }
   ],
   "source": [
    "data = h5py.File(\"/home/lvhuaihai/EgoMimic/datasets/fruit_in_the_bag/fruit_in_the_bag/2024.12.07.11.27/episode_10.hdf5\", \"r\")\n",
    "# print(len(data['data'].keys()))\n",
    "print(data.keys())\n",
    "print(data['action'])\n",
    "# print(data['action'][0])\n",
    "print(data['observations'].keys())\n",
    "print(data['observations']['images'].keys())\n",
    "print(data['observations']['images']['cam_high'].shape)\n",
    "print(data['observations']['images']['cam_left_wrist'].shape)\n",
    "print(data['observations']['images']['cam_right_wrist'].shape)\n",
    "print(data['observations']['images']['cam_high'][0].shape)\n",
    "print(data['observations']['images']['cam_left_wrist'][0].shape)\n",
    "print(data['observations']['images']['cam_right_wrist'][0].shape)\n",
    "print(data['observations']['qpos'])\n",
    "print(data['observations']['qpos'][350])"
   ]
  },
  {
   "cell_type": "markdown",
   "metadata": {},
   "source": [
    "## Custom Hand Data"
   ]
  },
  {
   "cell_type": "code",
   "execution_count": 17,
   "metadata": {},
   "outputs": [
    {
     "name": "stdout",
     "output_type": "stream",
     "text": [
      "50\n",
      "<KeysViewHDF5 ['demo_0', 'demo_1', 'demo_10', 'demo_100', 'demo_101', 'demo_102', 'demo_103', 'demo_104', 'demo_105', 'demo_106', 'demo_107', 'demo_108', 'demo_109', 'demo_11', 'demo_110', 'demo_111', 'demo_112', 'demo_113', 'demo_114', 'demo_115', 'demo_116', 'demo_117', 'demo_118', 'demo_119', 'demo_12', 'demo_120', 'demo_121', 'demo_122', 'demo_123', 'demo_124', 'demo_125', 'demo_126', 'demo_127', 'demo_128', 'demo_129', 'demo_13', 'demo_130', 'demo_131', 'demo_132', 'demo_133', 'demo_134', 'demo_135', 'demo_136', 'demo_137', 'demo_138', 'demo_139', 'demo_14', 'demo_140', 'demo_141', 'demo_142']>\n",
      "<KeysViewHDF5 ['actions_xyz', 'actions_xyz_act', 'obs']>\n",
      "300\n",
      "<HDF5 dataset \"actions_xyz\": shape (300, 10, 6), type \"<f8\">\n",
      "<HDF5 dataset \"actions_xyz_act\": shape (300, 100, 6), type \"<f8\">\n",
      "<KeysViewHDF5 ['ee_pose', 'front_img_1', 'front_img_1_line', 'front_img_1_mask', 'front_img_1_masked']>\n",
      "<HDF5 dataset \"ee_pose\": shape (300, 6), type \"<f8\">\n",
      "<HDF5 dataset \"front_img_1\": shape (300, 480, 640, 3), type \"|u1\">\n",
      "<HDF5 dataset \"front_img_1_line\": shape (300, 480, 640, 3), type \"|u1\">\n"
     ]
    }
   ],
   "source": [
    "data = h5py.File(\"/home/lvhuaihai/EgoMimic/datasets/groceries_human.hdf5\", \"r\")\n",
    "print(len(data['data'].keys()))\n",
    "print(data['data'].keys())\n",
    "print(data['data']['demo_0'].keys())\n",
    "print(data['data']['demo_0'].attrs[\"num_samples\"])\n",
    "print(data['data']['demo_0']['actions_xyz'])\n",
    "print(data['data']['demo_0']['actions_xyz_act'])\n",
    "print(data['data']['demo_0']['obs'].keys())\n",
    "print(data['data']['demo_0']['obs']['ee_pose'])\n",
    "print(data['data']['demo_0']['obs']['front_img_1'])\n",
    "print(data['data']['demo_0']['obs']['front_img_1_line'])\n",
    "# print(data['data']['demo_0']['obs']['front_img_1_mask'])"
   ]
  },
  {
   "cell_type": "code",
   "execution_count": 4,
   "metadata": {},
   "outputs": [
    {
     "name": "stdout",
     "output_type": "stream",
     "text": [
      "b'demo_1'\n",
      "<KeysViewHDF5 ['actions_joints_act', 'actions_xyz_act', 'obs']>\n",
      "<HDF5 dataset \"actions_joints_act\": shape (3000, 100, 7), type \"<f8\">\n",
      "<HDF5 dataset \"actions_xyz_act\": shape (3000, 100, 3), type \"<f8\">\n",
      "<KeysViewHDF5 ['ee_pose', 'front_img_1', 'front_img_1_line', 'front_img_1_masked', 'joint_positions', 'right_wrist_img']>\n",
      "<HDF5 dataset \"ee_pose\": shape (3000, 3), type \"<f8\">\n",
      "<HDF5 dataset \"front_img_1\": shape (3000, 480, 640, 3), type \"|u1\">\n",
      "<HDF5 dataset \"front_img_1_line\": shape (3000, 480, 640, 3), type \"|u1\">\n",
      "<HDF5 dataset \"joint_positions\": shape (3000, 7), type \"<f4\">\n",
      "<HDF5 dataset \"right_wrist_img\": shape (3000, 480, 640, 3), type \"|u1\">\n"
     ]
    }
   ],
   "source": [
    "data = h5py.File(\"/home/lvhuaihai/EgoMimic/datasets/bowlplace_robot.hdf5\", \"r\")\n",
    "print(data['mask']['train'][1])\n",
    "print(data['data']['demo_0'].keys())\n",
    "print(data['data']['demo_0']['actions_joints_act'])\n",
    "print(data['data']['demo_0']['actions_xyz_act'])\n",
    "print(data['data']['demo_0']['obs'].keys())\n",
    "print(data['data']['demo_0']['obs']['ee_pose'])\n",
    "print(data['data']['demo_0']['obs']['front_img_1'])\n",
    "print(data['data']['demo_0']['obs']['front_img_1_line'])\n",
    "# print(data['data']['demo_0']['obs']['front_img_1_mask'])\n",
    "print(data['data']['demo_0']['obs']['joint_positions'])\n",
    "print(data['data']['demo_0']['obs']['right_wrist_img'])"
   ]
  },
  {
   "cell_type": "code",
   "execution_count": 5,
   "metadata": {},
   "outputs": [
    {
     "name": "stdout",
     "output_type": "stream",
     "text": [
      "<KeysViewHDF5 ['data', 'mask']>\n",
      "<KeysViewHDF5 ['train', 'valid']>\n",
      "b'demo_1'\n",
      "<KeysViewHDF5 ['actions_joints', 'actions_joints_act', 'actions_xyz', 'actions_xyz_act', 'obs']>\n",
      "<KeysViewHDF5 ['actions_joints', 'actions_joints_act', 'actions_xyz', 'actions_xyz_act', 'obs']>\n",
      "<HDF5 dataset \"actions_joints_act\": shape (5000, 100, 14), type \"<f8\">\n",
      "<HDF5 dataset \"actions_xyz_act\": shape (5000, 100, 6), type \"<f8\">\n",
      "<KeysViewHDF5 ['ee_pose', 'front_img_1', 'front_img_1_line', 'front_img_1_masked', 'joint_positions', 'left_wrist_img', 'right_wrist_img']>\n",
      "<HDF5 dataset \"ee_pose\": shape (5000, 6), type \"<f8\">\n",
      "<HDF5 dataset \"front_img_1\": shape (5000, 480, 640, 3), type \"|u1\">\n",
      "<HDF5 dataset \"front_img_1_line\": shape (5000, 480, 640, 3), type \"|u1\">\n",
      "<HDF5 dataset \"joint_positions\": shape (5000, 14), type \"<f4\">\n",
      "<HDF5 dataset \"right_wrist_img\": shape (5000, 480, 640, 3), type \"|u1\">\n"
     ]
    }
   ],
   "source": [
    "data = h5py.File(\"/home/lvhuaihai/EgoMimic/datasets/smallclothfold_robot.hdf5\", \"r\")\n",
    "print(data.keys())\n",
    "print(data['mask'].keys())\n",
    "print(data['mask']['train'][0])\n",
    "\n",
    "print(data['data']['demo_0'].keys())\n",
    "print(data['data']['demo_1'].keys())\n",
    "print(data['data']['demo_0']['actions_joints_act'])\n",
    "print(data['data']['demo_0']['actions_xyz_act'])\n",
    "print(data['data']['demo_0']['obs'].keys())\n",
    "print(data['data']['demo_0']['obs']['ee_pose'])\n",
    "print(data['data']['demo_0']['obs']['front_img_1'])\n",
    "print(data['data']['demo_0']['obs']['front_img_1_line'])\n",
    "# print(data['data']['dem2_0']['obs']['front_img_1_mask'])\n",
    "print(data['data']['demo_0']['obs']['joint_positions'])\n",
    "print(data['data']['demo_0']['obs']['right_wrist_img'])"
   ]
  },
  {
   "cell_type": "code",
   "execution_count": 6,
   "metadata": {},
   "outputs": [
    {
     "name": "stdout",
     "output_type": "stream",
     "text": [
      "<KeysViewHDF5 ['data', 'mask']>\n",
      "<KeysViewHDF5 ['demo_0', 'demo_1', 'demo_10', 'demo_100', 'demo_101', 'demo_102', 'demo_103', 'demo_104', 'demo_105', 'demo_106', 'demo_107', 'demo_108', 'demo_109', 'demo_11', 'demo_110', 'demo_111', 'demo_112', 'demo_113', 'demo_114', 'demo_115', 'demo_116', 'demo_117', 'demo_118', 'demo_119', 'demo_12', 'demo_120', 'demo_121', 'demo_122', 'demo_123', 'demo_124', 'demo_125', 'demo_126', 'demo_127', 'demo_128', 'demo_129', 'demo_13', 'demo_130', 'demo_131', 'demo_132', 'demo_133', 'demo_134', 'demo_135', 'demo_136', 'demo_137', 'demo_138', 'demo_139', 'demo_14', 'demo_140', 'demo_141', 'demo_142']>\n",
      "<KeysViewHDF5 ['actions_xyz', 'actions_xyz_act', 'obs']>\n",
      "<HDF5 dataset \"actions_xyz_act\": shape (300, 100, 6), type \"<f8\">\n",
      "<KeysViewHDF5 ['ee_pose', 'front_img_1', 'front_img_1_line', 'front_img_1_mask', 'front_img_1_masked']>\n",
      "<HDF5 dataset \"ee_pose\": shape (300, 6), type \"<f8\">\n",
      "<HDF5 dataset \"front_img_1\": shape (300, 480, 640, 3), type \"|u1\">\n",
      "<HDF5 dataset \"front_img_1_line\": shape (300, 480, 640, 3), type \"|u1\">\n"
     ]
    }
   ],
   "source": [
    "data = h5py.File(\"/home/lvhuaihai/EgoMimic/datasets/groceries_human.hdf5\", \"r\")\n",
    "print(data.keys())\n",
    "print(data['data'].keys())\n",
    "print(data['data']['demo_0'].keys())\n",
    "# print(data['data']['demo_0']['actions_joints_act'])\n",
    "print(data['data']['demo_0']['actions_xyz_act'])\n",
    "print(data['data']['demo_0']['obs'].keys())\n",
    "print(data['data']['demo_0']['obs']['ee_pose'])\n",
    "print(data['data']['demo_0']['obs']['front_img_1'])\n",
    "print(data['data']['demo_0']['obs']['front_img_1_line'])\n",
    "# print(data['data']['dem2_0']['obs']['front_img_1_mask'])\n",
    "# print(data['data']['demo_0']['obs']['joint_positions'])\n",
    "# print(data['data']['demo_0']['obs']['right_wrist_img'])"
   ]
  },
  {
   "cell_type": "code",
   "execution_count": 7,
   "metadata": {},
   "outputs": [
    {
     "name": "stdout",
     "output_type": "stream",
     "text": [
      "<KeysViewHDF5 ['action', 'observations']>\n",
      "<HDF5 dataset \"action\": shape (330, 128), type \"<f4\">\n",
      "<KeysViewHDF5 ['images', 'qpos']>\n",
      "<KeysViewHDF5 ['cam_high', 'cam_left_wrist', 'cam_right_wrist']>\n",
      "(59606,)\n"
     ]
    },
    {
     "name": "stdout",
     "output_type": "stream",
     "text": [
      "(51218,)\n",
      "(40049,)\n",
      "<HDF5 dataset \"qpos\": shape (330, 128), type \"<f4\">\n"
     ]
    }
   ],
   "source": [
    "data = h5py.File(\"/home/realbench/Dataset/fold_the_adult_shorts_neatly/sample/episode_80.hdf5\", \"r\")\n",
    "# print(len(data['data'].keys()))\n",
    "print(data.keys())\n",
    "print(data['action'])\n",
    "print(data['observations'].keys())\n",
    "print(data['observations']['images'].keys())\n",
    "print(data['observations']['images']['cam_high'][0].shape)\n",
    "print(data['observations']['images']['cam_left_wrist'][0].shape)\n",
    "print(data['observations']['images']['cam_right_wrist'][0].shape)\n",
    "print(data['observations']['qpos'])"
   ]
  },
  {
   "cell_type": "code",
   "execution_count": null,
   "metadata": {},
   "outputs": [
    {
     "name": "stdout",
     "output_type": "stream",
     "text": [
      "<KeysViewHDF5 ['action', 'observations']>\n",
      "<HDF5 dataset \"action\": shape (662, 128), type \"<f4\">\n",
      "<KeysViewHDF5 ['images', 'qpos']>\n",
      "<KeysViewHDF5 ['cam_high', 'cam_left_wrist', 'cam_right_wrist']>\n",
      "(662,)\n",
      "(662,)\n",
      "(662,)\n",
      "(64098,)\n",
      "(57845,)\n",
      "(56256,)\n",
      "<HDF5 dataset \"qpos\": shape (662, 128), type \"<f4\">\n",
      "[ 0.27033657  0.02709122 -0.46944743  0.39319777  0.9292132  -0.53444546\n",
      "  0.          0.          0.          0.          0.          0.\n",
      "  0.          0.          0.          0.          0.          0.\n",
      "  0.          0.          0.          0.          0.          0.\n",
      "  0.          0.          0.          0.          0.          0.\n",
      " -0.004031    0.027893    0.274461   -0.17369859 -0.331902   -0.92718387\n",
      " -0.6066915   0.7776826  -0.1647278   0.          0.          0.\n",
      "  0.          0.          0.          0.          0.          0.\n",
      "  0.          0.         -0.23891911  0.20375112 -0.48458922 -0.10147433\n",
      "  0.86339533  0.10100333  0.          0.          0.          0.\n",
      "  0.532       0.          0.          0.          0.          0.\n",
      "  0.          0.          0.          0.          0.          0.\n",
      "  0.          0.          0.          0.          0.          0.\n",
      "  0.          0.          0.031423   -0.014876    0.276353   -0.44899982\n",
      "  0.14533463 -0.88163316  0.31796032  0.9480872  -0.00564205  0.\n",
      "  0.          0.          0.          0.          0.          0.\n",
      "  0.          0.          0.          0.          0.          0.\n",
      "  0.          0.          0.          0.          0.          0.\n",
      "  0.          0.          0.          0.          0.          0.\n",
      "  0.          0.          0.          0.          0.          0.\n",
      "  0.          0.          0.          0.          0.          0.\n",
      "  0.          0.        ]\n"
     ]
    }
   ],
   "source": []
  },
  {
   "cell_type": "code",
   "execution_count": null,
   "metadata": {},
   "outputs": [
    {
     "name": "stdout",
     "output_type": "stream",
     "text": [
      "<KeysViewHDF5 ['data', 'mask']>\n",
      "<KeysViewHDF5 ['demo_0', 'demo_1', 'demo_10', 'demo_11', 'demo_12', 'demo_13', 'demo_14', 'demo_15', 'demo_16', 'demo_17', 'demo_18', 'demo_19', 'demo_2', 'demo_20', 'demo_21', 'demo_22', 'demo_23', 'demo_24', 'demo_25', 'demo_26', 'demo_27', 'demo_28', 'demo_29', 'demo_3', 'demo_30', 'demo_31', 'demo_32', 'demo_33', 'demo_34', 'demo_35', 'demo_36', 'demo_37', 'demo_38', 'demo_39', 'demo_4', 'demo_40', 'demo_41', 'demo_42', 'demo_43', 'demo_44', 'demo_45', 'demo_46', 'demo_47', 'demo_48', 'demo_49', 'demo_5', 'demo_50', 'demo_51', 'demo_52', 'demo_53', 'demo_54', 'demo_55', 'demo_56', 'demo_57', 'demo_58', 'demo_59', 'demo_6', 'demo_60', 'demo_61', 'demo_62', 'demo_63', 'demo_64', 'demo_65', 'demo_66', 'demo_67', 'demo_68', 'demo_69', 'demo_7', 'demo_70', 'demo_71', 'demo_72', 'demo_73', 'demo_74', 'demo_75', 'demo_76', 'demo_77', 'demo_78', 'demo_79', 'demo_8', 'demo_80', 'demo_81', 'demo_82', 'demo_83', 'demo_84', 'demo_85', 'demo_86', 'demo_87', 'demo_88', 'demo_89', 'demo_9', 'demo_90', 'demo_91', 'demo_92', 'demo_93', 'demo_94', 'demo_95', 'demo_96', 'demo_97', 'demo_98', 'demo_99']>\n",
      "<KeysViewHDF5 ['train', 'valid']>\n",
      "<HDF5 dataset \"train\": shape (80,), type \"|O\">\n",
      "<KeysViewHDF5 ['actions_joints_act', 'actions_xyz_act', 'obs']>\n",
      "<KeysViewHDF5 ['ee_pose', 'front_img_1', 'joint_positions']>\n"
     ]
    }
   ],
   "source": [
    "data = h5py.File(\"/home/lvhuaihai/EgoMimic/datasets/ego.hdf5\", \"r\")\n",
    "print(data.keys())\n",
    "print(data['data'].keys())\n",
    "print(data['mask'].keys())\n",
    "print(data['mask']['train'])\n",
    "print(data['data']['demo_0'].keys())\n",
    "# print(data['data']['demo_0']['actions_joints_act'])\n",
    "# print(data['data']['demo_0']['actions_xyz_act'])\n",
    "print(data['data']['demo_0']['obs'].keys())\n",
    "# print(data['data']['demo_0']['obs']['ee_pose'])\n",
    "print(data['data']['demo_0']['obs']['front_img_1'])\n",
    "# print(data['data']['demo_0']['obs']['front_img_1_line'])\n",
    "# # print(data['data']['dem2_0']['obs']['front_img_1_mask'])\n",
    "\n",
    "# print(data['data']['demo_94']['obs']['joint_positions'])\n",
    "# print(data['data']['demo_94'].keys())\n",
    "# print(data['data']['demo_94']['obs'].keys())\n",
    "data.close()\n",
    "# print(data['data']['demo_0']['obs']['right_wrist_img'])\n",
    "# print(data['data']['demo_0'].keys())\n",
    "# print(data['data']['demo_0']['actions_joints_act'])\n",
    "# print(data['data']['demo_0']['actions_xyz_act'])\n",
    "# print(data['data']['demo_0']['obs'].keys())\n",
    "# print(data['data']['demo_0']['obs']['ee_pose'])\n",
    "# print(data['data']['demo_0']['obs']['front_img_1'])\n",
    "# print(data['data']['demo_0']['obs']['front_img_1_line'])\n",
    "# # print(data['data']['dem2_0']['obs']['front_img_1_mask'])\n",
    "# print(data['data']['demo_0']['obs']['joint_positions'])\n",
    "# print(data['data']['demo_0']['obs']['right_wrist_img'])"
   ]
  },
  {
   "cell_type": "code",
   "execution_count": 3,
   "metadata": {},
   "outputs": [
    {
     "name": "stdout",
     "output_type": "stream",
     "text": [
      "<KeysViewHDF5 ['action', 'base_action', 'observations']>\n",
      "<HDF5 dataset \"action\": shape (584, 14), type \"<f4\">\n",
      "[-0.17205018  0.05606502 -0.46573734 -0.29630378  0.8557154   0.40320063\n",
      "  0.00406     0.36367252  0.40824193 -0.43482658  0.7269264   0.9000581\n",
      " -0.7028013   0.00847   ]\n",
      "<KeysViewHDF5 ['effort', 'images', 'qpos', 'qvel']>\n",
      "<HDF5 dataset \"effort\": shape (584, 14), type \"<f4\">\n",
      "<HDF5 dataset \"qpos\": shape (584, 14), type \"<f4\">\n",
      "[-0.17585297  0.04210982 -0.44473478 -0.27849346  0.92418313  0.40588698\n",
      "  0.00532     0.36960348  0.39378086 -0.4092537   0.6905731   0.94321454\n",
      " -0.6963819   0.00476   ]\n",
      "<HDF5 dataset \"qvel\": shape (584, 14), type \"<f4\">\n",
      "<KeysViewHDF5 ['cam_high', 'cam_left_wrist', 'cam_right_wrist']>\n",
      "<HDF5 dataset \"cam_high\": shape (584, 480, 640, 3), type \"|u1\">\n",
      "<HDF5 dataset \"cam_left_wrist\": shape (584, 480, 640, 3), type \"|u1\">\n",
      "<HDF5 dataset \"cam_right_wrist\": shape (584, 480, 640, 3), type \"|u1\">\n",
      "<HDF5 dataset \"base_action\": shape (584, 2), type \"<f4\">\n"
     ]
    }
   ],
   "source": [
    "import h5py\n",
    "data = h5py.File(\"/home/lvhuaihai/data/ouraloha_fruit/aloha_mobile_dummy/episode_0.hdf5\", \"r\")\n",
    "print(data.keys())\n",
    "print(data['action'])\n",
    "print(data['action'][0])\n",
    "print(data['observations'].keys())\n",
    "print(data['observations']['effort'])\n",
    "print(data['observations']['qpos'])\n",
    "print(data['observations']['qpos'][0])\n",
    "print(data['observations']['qvel'])\n",
    "print(data['observations']['images'].keys())\n",
    "print(data['observations']['images']['cam_high'])\n",
    "print(data['observations']['images']['cam_left_wrist'])\n",
    "print(data['observations']['images']['cam_right_wrist'])\n",
    "print(data['base_action'])\n"
   ]
  }
 ],
 "metadata": {
  "kernelspec": {
   "display_name": "flagscale",
   "language": "python",
   "name": "python3"
  },
  "language_info": {
   "codemirror_mode": {
    "name": "ipython",
    "version": 3
   },
   "file_extension": ".py",
   "mimetype": "text/x-python",
   "name": "python",
   "nbconvert_exporter": "python",
   "pygments_lexer": "ipython3",
   "version": "3.10.12"
  }
 },
 "nbformat": 4,
 "nbformat_minor": 2
}
